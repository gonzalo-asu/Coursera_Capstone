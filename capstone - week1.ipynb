{
 "cells": [
  {
   "cell_type": "markdown",
   "id": "b523c4a5",
   "metadata": {},
   "source": [
    "<h1 align=center><font size = 5>Capstone Project - The Battle of Neighborhoods (Week 1)</font></h1>"
   ]
  },
  {
   "cell_type": "markdown",
   "id": "b9999668",
   "metadata": {},
   "source": [
    "<h2>1. Introduction/Business Problem</h2> "
   ]
  },
  {
   "cell_type": "markdown",
   "id": "4606327a",
   "metadata": {},
   "source": [
    "Should I take this new Job at Merida, Yucatan, Mexico? Would it be safe? What if I lose access to my favorite venues categories? What neighborhood should I choose?... These are some of the most common questions when it comes to deciding whether to relocate by accepting a new job."
   ]
  },
  {
   "cell_type": "markdown",
   "id": "cd1a8193",
   "metadata": {},
   "source": [
    "<img src=\"https://i.ytimg.com/vi/OrIQTtdaygk/maxresdefault.jpg\">"
   ]
  },
  {
   "cell_type": "markdown",
   "id": "9a43b3aa",
   "metadata": {},
   "source": [
    "In the following work, we are going to analyze the city of Merida Yucatan with its neighborhoods, the process will start with a list of categories that will be queried to FourSquare, then we will analyze the results to determine which would be the ideal neighborhood to move to."
   ]
  },
  {
   "cell_type": "markdown",
   "id": "0939aaa9",
   "metadata": {},
   "source": [
    "With this method, we'll understand how similar or dissimilar the neighborhoods of a given city are. The same technique allows users to identify similar neighborhoods among cities based on amenities or services being offered locally, and thus can help in understanding the local area activities, the hubs of different activities, how citizens are experiencing the city, and how they are utilizing its resources."
   ]
  },
  {
   "cell_type": "markdown",
   "id": "e55abd44",
   "metadata": {},
   "source": [
    "<h3>Which audience will benefit from this analysis?"
   ]
  },
  {
   "cell_type": "markdown",
   "id": "9e9ccadd",
   "metadata": {},
   "source": [
    "<ol>\n",
    "  <li>A person that may wish to move to a neighborhood that provide the most suitable match for his living style</li>\n",
    "  <li>A person renting a home in a new city and may want to look for recommendations for locations in the city similar to other cities.</li>\n",
    "  <li>An investor is eager to know how developed a certain niche or market is within the city.</li>\n",
    "</ol>\n"
   ]
  },
  {
   "cell_type": "markdown",
   "id": "c517000d",
   "metadata": {},
   "source": [
    "<h2>2. Data</h2>"
   ]
  },
  {
   "cell_type": "markdown",
   "id": "4f560bab",
   "metadata": {},
   "source": [
    "<h3>FourSquare location data</h3>"
   ]
  },
  {
   "cell_type": "markdown",
   "id": "ba74f59c",
   "metadata": {},
   "source": [
    "We are going to start from a list with the following categories:\n",
    "\n",
    "<ul>\n",
    "  <li>Rental Car Location</li>\n",
    "  <li>Movie Theater</li>\n",
    "  <li>Shopping Mall</li>\n",
    "  <li>Supermarket</li>\n",
    "  <li>Spa</li>\n",
    "  <li>Boutique</li>\n",
    "  <li>Hotel</li> \n",
    "  <li>Travel agency</li> \n",
    "  <li>Food</li> \n",
    "  <li>Gym</li> \n",
    "  <li>School</li>   \n",
    "</ul>  "
   ]
  },
  {
   "cell_type": "markdown",
   "id": "80aedde0",
   "metadata": {},
   "source": [
    "For each categorie in the list we will perform a venue recommendation, the following is a request URL with a partial JSON response as example:\n",
    "\n",
    "https://api.foursquare.com/v2/venues/explore?client_id=#&client_secret=#&oauth_token=#&v=20180604&near=Merida,%20Yucatan&query=Rental%20Car%20Location&intent=browse&offset=0&limit=50"
   ]
  },
  {
   "cell_type": "markdown",
   "id": "c2080f3c",
   "metadata": {},
   "source": [
    "{\"meta\":{\"code\":200,\"requestId\":\"608712c0e67ee12381b4011e\"},\"notifications\":[{\"type\":\"notificationTray\",\"item\":{\"unreadCount\":0}}],\"response\":{\"suggestedFilters\":{\"header\":\"Tap to show:\",\"filters\":[{\"name\":\"Open now\",\"key\":\"openNow\"}]},\"geocode\":{\"what\":\"\",\"where\":\"merida yucatan\",\"center\":{\"lat\":20.97537,\"lng\":-89.61696},\"displayString\":\"Mérida, YUC, Mexico\",\"cc\":\"MX\",\"geometry\":{\"bounds\":{\"ne\":{\"lat\":21.079218219110707,\"lng\":-89.54303352075961},\"sw\":{\"lat\":20.87298156415734,\"lng\":-89.72280315869435}}},\"slug\":\"merida-mexico\",\"longId\":\"72057594041451285\"},\"headerLocation\":\"Mérida\",\"headerFullLocation\":\"Mérida\",\"headerLocationGranularity\":\"city\",\"query\":\"rental car location\",\"totalResults\":20,\"suggestedBounds\":{\"ne\":{\"lat\":21.0227280070603,\"lng\":-89.5676651333385},\"sw\":{\"lat\":20.929645851733667,\"lng\":-89.67281047463536}},\"groups\":[{\"type\":\"Recommended Places\",\"name\":\"recommended\",\"items\":[{\"reasons\":{\"count\":0,\"items\":[{\"summary\":\"This spot is popular\",\"type\":\"general\",\"reasonName\":\"globalInteractionReason\"}]},\"venue\":{\"id\":\"4d95f28e942ba09389c3468c\",\"name\":\"Avis Renta de Autos\",\"location\":{\"address\":\"Calle 56-A Depto 1-A 451 Centro, AVENIDA COLON Y CUPULES\",\"crossStreet\":\"60\",\"lat\":20.986248,\"lng\":-89.619437,\"labeledLatLngs\":[{\"label\":\"display\",\"lat\":20.986248,\"lng\":-89.619437}],\"postalCode\":\"97000\",\"cc\":\"MX\",\"city\":\"Mérida\",\"state\":\"Yucatán\",\"country\":\"Mexico\",\"formattedAddress\":[\"Calle 56-A Depto 1-A 451 Centro, AVENIDA COLON Y CUPULES (60)\",\"97000 Mérida, Yucatán\"]}"
   ]
  },
  {
   "cell_type": "markdown",
   "id": "07a7bcc8",
   "metadata": {},
   "source": [
    "The reason why we are using \"venues recommendation\" instead of \"venue search\" is because this last one is limited to 50 results."
   ]
  },
  {
   "cell_type": "markdown",
   "id": "a4145a71",
   "metadata": {},
   "source": []
  },
  {
   "cell_type": "code",
   "execution_count": null,
   "id": "c9cad056",
   "metadata": {},
   "outputs": [],
   "source": []
  }
 ],
 "metadata": {
  "kernelspec": {
   "display_name": "Python 3",
   "language": "python",
   "name": "python3"
  },
  "language_info": {
   "codemirror_mode": {
    "name": "ipython",
    "version": 3
   },
   "file_extension": ".py",
   "mimetype": "text/x-python",
   "name": "python",
   "nbconvert_exporter": "python",
   "pygments_lexer": "ipython3",
   "version": "3.7.8"
  }
 },
 "nbformat": 4,
 "nbformat_minor": 5
}
